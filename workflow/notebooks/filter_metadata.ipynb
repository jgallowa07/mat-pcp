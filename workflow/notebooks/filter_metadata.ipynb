{
 "cells": [
  {
   "cell_type": "markdown",
   "metadata": {},
   "source": [
    "# GISAID SAMPLES"
   ]
  },
  {
   "cell_type": "code",
   "execution_count": null,
   "metadata": {},
   "outputs": [],
   "source": [
    "import pandas as pd\n",
    "# import numpy as np\n",
    "from matplotlib import pyplot as plt\n",
    "from datetime import datetime\n",
    "# import altair as alt\n",
    "from enum import Enum, auto\n",
    "import seaborn as sns"
   ]
  },
  {
   "cell_type": "markdown",
   "metadata": {},
   "source": [
    "Define the utilities for how to handle dates"
   ]
  },
  {
   "cell_type": "code",
   "execution_count": 2,
   "metadata": {},
   "outputs": [],
   "source": [
    "class DateResolution(Enum):\n",
    "    DAY = auto()\n",
    "    MONTH = auto()\n",
    "    YEAR = auto()\n",
    "    MISSING = auto()\n",
    "\n",
    "def determine_resolution(date_str) -> DateResolution:\n",
    "    \"\"\"\n",
    "    Determine the resolution of the given date string.\n",
    "\n",
    "    Args:\n",
    "    - date_str: A string representation of a date\n",
    "\n",
    "    Returns:\n",
    "    - A DateResolution enum value indicating the resolution of the date\n",
    "    \"\"\"\n",
    "    if pd.isna(date_str) or date_str == \"?\":\n",
    "        return DateResolution.MISSING\n",
    "    elif \"-\" in date_str:\n",
    "        parts = date_str.split(\"-\")\n",
    "        if len(parts) == 3:\n",
    "            return DateResolution.DAY\n",
    "        elif len(parts) == 2:\n",
    "            return DateResolution.MONTH\n",
    "    elif date_str.isdigit():  # Only year is provided\n",
    "        return DateResolution.YEAR\n",
    "\n",
    "    return DateResolution.MISSING  # default\n",
    "\n",
    "def robust_fromisoformat(date_string: str) -> pd.Timestamp:\n",
    "    \"\"\"\n",
    "    Convert a string into a datetime object. This function is designed to handle common variations in date formatting.\n",
    "\n",
    "    Args:\n",
    "        date_string (str): A date in string format.\n",
    "\n",
    "    Returns:\n",
    "        pd.Timestamp: Corresponding datetime object.\n",
    "\n",
    "    Notes:\n",
    "    - If the string is \"?\", it returns a NaT (Not a Time).\n",
    "    - If the string format represents a month only (e.g., \"2023-03\"), it returns the approximate midpoint of the month (e.g., \"2023-03-15\").\n",
    "    - If the string format represents a year only (e.g., \"2023\"), it returns the approximate midpoint of the year (e.g., \"2023-06-01\").\n",
    "    \"\"\"\n",
    "\n",
    "    if pd.isna(date_string) or date_string == \"?\":\n",
    "       return pd.NaT\n",
    "    elif \"-\" not in date_string and len(date_string) == 4:  # Only a year is provided\n",
    "       return datetime.fromisoformat(f\"{date_string}-06-01\")\n",
    "    elif date_string.count(\"-\") == 1:  # Only year and month are provided\n",
    "        mid_date = f\"{date_string}-15\"\n",
    "        if len(mid_date) == 10:\n",
    "            return datetime.fromisoformat(mid_date)\n",
    "        else:\n",
    "            padded_date_string = '-'.join(i.zfill(2) for i in mid_date.split('-'))\n",
    "            return datetime.fromisoformat(padded_date_string)\n",
    "    elif len(date_string) != 10:\n",
    "        padded_date_string = '-'.join(i.zfill(2) for i in date_string.split('-'))\n",
    "        return datetime.fromisoformat(padded_date_string)\n",
    "    else:\n",
    "        return datetime.fromisoformat(date_string)"
   ]
  },
  {
   "cell_type": "markdown",
   "metadata": {},
   "source": [
    "### Inputs"
   ]
  },
  {
   "cell_type": "code",
   "execution_count": null,
   "metadata": {},
   "outputs": [],
   "source": [
    "# Define variables provided by snakemake workflow\n",
    "# META = \"../../../bigger-tree/2023-10-02/gisaidAndPublic.2023-10-01.metadata.tsv.gz\"\n",
    "META = snakemake.input[\"meta\"]\n",
    "\n",
    "DATETIME_CUTOFF = snakemake.params[\"datetime_cutoff\"]\n",
    "SUBSET_FRAC = snakemake.params[\"subset_frac\"]\n",
    "# INVALID_DATE_RES = [\"MISSING\", \"MONTH\", \"YEAR\"]\n",
    "# MIN_DATE = \"2019-12-01\"\n",
    "INVALID_DATE_RES = snakemake.params.qc_filter_options[\"invalid_date_resolutions\"]\n",
    "MIN_DATE = snakemake.params.qc_filter_options[\"min_date\"]\n",
    "\n",
    "# VALID_HOSTS = [\"Human\", \"Homo sapiens\"]\n",
    "# MISSING_HOST_IS_VALID = True\n",
    "VALID_HOSTS = snakemake.params.qc_filter_options[\"valid_hosts\"]\n",
    "MISSING_HOST_IS_VALID = snakemake.params.qc_filter_options[\"missing_host_is_valid\"]\n",
    "\n",
    "# MIN_GENOME_LENGTH = 28000\n",
    "# MAX_GENOME_LENGTH = 32000\n",
    "MIN_GENOME_LENGTH = snakemake.params.qc_filter_options[\"min_genome_length\"]\n",
    "MAX_GENOME_LENGTH = snakemake.params.qc_filter_options[\"max_genome_length\"]\n",
    "\n",
    "# OUTPUT\n",
    "# FILTERED_META_OUT = \"filtered_metadata.tsv.gz\"\n",
    "# INVALID_STRAINS_OUT = \"invalid_strains.txt\"\n",
    "FILTERED_META_OUT = snakemake.output[\"filtered_metadata\"]\n",
    "INVALID_STRAINS_OUT = snakemake.log[\"invalid_strains\"]\n"
   ]
  },
  {
   "cell_type": "markdown",
   "metadata": {},
   "source": [
    "First, we'll load in the metadata"
   ]
  },
  {
   "cell_type": "code",
   "execution_count": 4,
   "metadata": {},
   "outputs": [],
   "source": [
    "meta_df = pd.read_csv(\n",
    "    META, \n",
    "    compression=\"gzip\", \n",
    "    sep=\"\\t\",\n",
    "    low_memory=False\n",
    ")"
   ]
  },
  {
   "cell_type": "markdown",
   "metadata": {},
   "source": [
    "# Early Subsetting\n",
    "\n",
    "Apply random subsetting based on subset_frac parameter to reduce dataset size before any processing."
   ]
  },
  {
   "cell_type": "code",
   "execution_count": null,
   "metadata": {},
   "outputs": [],
   "source": [
    "print(f\"Original dataset size: {len(meta_df)}\")\n",
    "\n",
    "# Apply random subsetting based on subset_frac early\n",
    "if SUBSET_FRAC < 1.0:\n",
    "    subset_size = int(len(meta_df) * SUBSET_FRAC)\n",
    "    meta_df = meta_df.sample(n=subset_size, random_state=42)\n",
    "    print(f\"After random subsetting: {len(meta_df)}\")"
   ]
  },
  {
   "cell_type": "markdown",
   "metadata": {},
   "source": [
    "Next, infer the date resolution of the date."
   ]
  },
  {
   "cell_type": "code",
   "execution_count": null,
   "metadata": {},
   "outputs": [],
   "source": [
    "meta_df[\"date_resolution\"] = meta_df[\"date\"].apply(determine_resolution)\n",
    "meta_df[\"date_resolution_str\"] = meta_df[\"date_resolution\"].apply(lambda x: x.name)\n",
    "meta_df.drop(columns=[\"date_resolution\"], inplace=True)\n",
    "\n",
    "# Convert dates\n",
    "meta_df[\"date\"] = meta_df[\"date\"].apply(robust_fromisoformat)"
   ]
  },
  {
   "cell_type": "code",
   "execution_count": null,
   "metadata": {},
   "outputs": [],
   "source": [
    "\n",
    "# Apply datetime cutoff filtering right after date conversion\n",
    "datetime_cutoff = datetime.fromisoformat(DATETIME_CUTOFF)\n",
    "valid_dates = ~pd.isna(meta_df['date'])\n",
    "date_filtered_df = meta_df[valid_dates & (meta_df['date'] <= datetime_cutoff)]\n",
    "\n",
    "# Keep track of dropped samples due to date cutoff\n",
    "dropped_by_cutoff = len(meta_df) - len(date_filtered_df)\n",
    "print(f\"Dropped {dropped_by_cutoff} samples due to date cutoff or invalid dates\")\n",
    "\n",
    "# Replace the original dataframe with the filtered one\n",
    "meta_df = date_filtered_df\n",
    "print(f\"Dataset size after date cutoff filtering: {len(meta_df)}\")"
   ]
  },
  {
   "cell_type": "code",
   "execution_count": null,
   "metadata": {},
   "outputs": [
    {
     "data": {
      "text/html": [
       "<div>\n",
       "<style scoped>\n",
       "    .dataframe tbody tr th:only-of-type {\n",
       "        vertical-align: middle;\n",
       "    }\n",
       "\n",
       "    .dataframe tbody tr th {\n",
       "        vertical-align: top;\n",
       "    }\n",
       "\n",
       "    .dataframe thead th {\n",
       "        text-align: right;\n",
       "    }\n",
       "</style>\n",
       "<table border=\"1\" class=\"dataframe\">\n",
       "  <thead>\n",
       "    <tr style=\"text-align: right;\">\n",
       "      <th></th>\n",
       "      <th>strain</th>\n",
       "      <th>genbank_accession</th>\n",
       "      <th>date</th>\n",
       "      <th>country</th>\n",
       "      <th>host</th>\n",
       "      <th>completeness</th>\n",
       "      <th>length</th>\n",
       "      <th>Nextstrain_clade</th>\n",
       "      <th>pangolin_lineage</th>\n",
       "      <th>Nextstrain_clade_usher</th>\n",
       "      <th>pango_lineage_usher</th>\n",
       "      <th>date_resolution_str</th>\n",
       "    </tr>\n",
       "  </thead>\n",
       "  <tbody>\n",
       "    <tr>\n",
       "      <th>0</th>\n",
       "      <td>100002|LR824035.1|2020-03-05</td>\n",
       "      <td>LR824035.1</td>\n",
       "      <td>2020-03-05</td>\n",
       "      <td>Switzerland</td>\n",
       "      <td>NaN</td>\n",
       "      <td>NaN</td>\n",
       "      <td>29903.0</td>\n",
       "      <td>20A</td>\n",
       "      <td>B.1</td>\n",
       "      <td>20A</td>\n",
       "      <td>B.1</td>\n",
       "      <td>DAY</td>\n",
       "    </tr>\n",
       "    <tr>\n",
       "      <th>1</th>\n",
       "      <td>100003|LR824038.1|2020-03-04</td>\n",
       "      <td>LR824038.1</td>\n",
       "      <td>2020-03-04</td>\n",
       "      <td>Switzerland</td>\n",
       "      <td>NaN</td>\n",
       "      <td>NaN</td>\n",
       "      <td>29903.0</td>\n",
       "      <td>20B</td>\n",
       "      <td>B.1.1</td>\n",
       "      <td>20B</td>\n",
       "      <td>B.1.1</td>\n",
       "      <td>DAY</td>\n",
       "    </tr>\n",
       "    <tr>\n",
       "      <th>2</th>\n",
       "      <td>100004|LR824040.1|2020-03-06</td>\n",
       "      <td>LR824040.1</td>\n",
       "      <td>2020-03-06</td>\n",
       "      <td>Switzerland</td>\n",
       "      <td>NaN</td>\n",
       "      <td>NaN</td>\n",
       "      <td>29903.0</td>\n",
       "      <td>20A</td>\n",
       "      <td>B.1</td>\n",
       "      <td>20A</td>\n",
       "      <td>B.1</td>\n",
       "      <td>DAY</td>\n",
       "    </tr>\n",
       "    <tr>\n",
       "      <th>3</th>\n",
       "      <td>100005|LR824037.1|2020-03-06</td>\n",
       "      <td>LR824037.1</td>\n",
       "      <td>2020-03-06</td>\n",
       "      <td>Switzerland</td>\n",
       "      <td>NaN</td>\n",
       "      <td>NaN</td>\n",
       "      <td>29903.0</td>\n",
       "      <td>20A</td>\n",
       "      <td>B.1</td>\n",
       "      <td>20A</td>\n",
       "      <td>B.1</td>\n",
       "      <td>DAY</td>\n",
       "    </tr>\n",
       "    <tr>\n",
       "      <th>4</th>\n",
       "      <td>100006|LR824041.1|2020-03-06</td>\n",
       "      <td>LR824041.1</td>\n",
       "      <td>2020-03-06</td>\n",
       "      <td>Switzerland</td>\n",
       "      <td>NaN</td>\n",
       "      <td>NaN</td>\n",
       "      <td>29903.0</td>\n",
       "      <td>20A</td>\n",
       "      <td>B.1</td>\n",
       "      <td>20A</td>\n",
       "      <td>B.1</td>\n",
       "      <td>DAY</td>\n",
       "    </tr>\n",
       "  </tbody>\n",
       "</table>\n",
       "</div>"
      ],
      "text/plain": [
       "                         strain genbank_accession       date      country  \\\n",
       "0  100002|LR824035.1|2020-03-05        LR824035.1 2020-03-05  Switzerland   \n",
       "1  100003|LR824038.1|2020-03-04        LR824038.1 2020-03-04  Switzerland   \n",
       "2  100004|LR824040.1|2020-03-06        LR824040.1 2020-03-06  Switzerland   \n",
       "3  100005|LR824037.1|2020-03-06        LR824037.1 2020-03-06  Switzerland   \n",
       "4  100006|LR824041.1|2020-03-06        LR824041.1 2020-03-06  Switzerland   \n",
       "\n",
       "  host completeness   length Nextstrain_clade pangolin_lineage  \\\n",
       "0  NaN          NaN  29903.0              20A              B.1   \n",
       "1  NaN          NaN  29903.0              20B            B.1.1   \n",
       "2  NaN          NaN  29903.0              20A              B.1   \n",
       "3  NaN          NaN  29903.0              20A              B.1   \n",
       "4  NaN          NaN  29903.0              20A              B.1   \n",
       "\n",
       "  Nextstrain_clade_usher pango_lineage_usher date_resolution_str  \n",
       "0                    20A                 B.1                 DAY  \n",
       "1                    20B               B.1.1                 DAY  \n",
       "2                    20A                 B.1                 DAY  \n",
       "3                    20A                 B.1                 DAY  \n",
       "4                    20A                 B.1                 DAY  "
      ]
     },
     "execution_count": 7,
     "metadata": {},
     "output_type": "execute_result"
    }
   ],
   "source": [
    "meta_df.head()"
   ]
  },
  {
   "cell_type": "code",
   "execution_count": 8,
   "metadata": {},
   "outputs": [
    {
     "name": "stdout",
     "output_type": "stream",
     "text": [
      "<class 'pandas.core.frame.DataFrame'>\n",
      "RangeIndex: 16236388 entries, 0 to 16236387\n",
      "Data columns (total 12 columns):\n",
      " #   Column                  Non-Null Count     Dtype         \n",
      "---  ------                  --------------     -----         \n",
      " 0   strain                  16236388 non-null  object        \n",
      " 1   genbank_accession       7506596 non-null   object        \n",
      " 2   date                    16235543 non-null  datetime64[ns]\n",
      " 3   country                 16231114 non-null  object        \n",
      " 4   host                    140952 non-null    object        \n",
      " 5   completeness            130516 non-null    object        \n",
      " 6   length                  15499702 non-null  float64       \n",
      " 7   Nextstrain_clade        16234056 non-null  object        \n",
      " 8   pangolin_lineage        16236387 non-null  object        \n",
      " 9   Nextstrain_clade_usher  16236388 non-null  object        \n",
      " 10  pango_lineage_usher     16236388 non-null  object        \n",
      " 11  date_resolution_str     16236388 non-null  object        \n",
      "dtypes: datetime64[ns](1), float64(1), object(10)\n",
      "memory usage: 1.5+ GB\n"
     ]
    }
   ],
   "source": [
    "meta_df.info(verbose=True, show_counts=True)"
   ]
  },
  {
   "cell_type": "code",
   "execution_count": 9,
   "metadata": {},
   "outputs": [
    {
     "data": {
      "text/plain": [
       "date_resolution_str\n",
       "DAY        15983833\n",
       "MONTH        196929\n",
       "YEAR          54781\n",
       "MISSING         845\n",
       "Name: count, dtype: int64"
      ]
     },
     "execution_count": 9,
     "metadata": {},
     "output_type": "execute_result"
    }
   ],
   "source": [
    "meta_df[\"date_resolution_str\"].value_counts()"
   ]
  },
  {
   "cell_type": "code",
   "execution_count": 10,
   "metadata": {},
   "outputs": [
    {
     "data": {
      "text/html": [
       "<div>\n",
       "<style scoped>\n",
       "    .dataframe tbody tr th:only-of-type {\n",
       "        vertical-align: middle;\n",
       "    }\n",
       "\n",
       "    .dataframe tbody tr th {\n",
       "        vertical-align: top;\n",
       "    }\n",
       "\n",
       "    .dataframe thead th {\n",
       "        text-align: right;\n",
       "    }\n",
       "</style>\n",
       "<table border=\"1\" class=\"dataframe\">\n",
       "  <thead>\n",
       "    <tr style=\"text-align: right;\">\n",
       "      <th></th>\n",
       "      <th>strain</th>\n",
       "      <th>genbank_accession</th>\n",
       "      <th>date</th>\n",
       "      <th>country</th>\n",
       "      <th>host</th>\n",
       "      <th>completeness</th>\n",
       "      <th>length</th>\n",
       "      <th>Nextstrain_clade</th>\n",
       "      <th>pangolin_lineage</th>\n",
       "      <th>Nextstrain_clade_usher</th>\n",
       "      <th>pango_lineage_usher</th>\n",
       "      <th>date_resolution_str</th>\n",
       "    </tr>\n",
       "  </thead>\n",
       "  <tbody>\n",
       "    <tr>\n",
       "      <th>8661283</th>\n",
       "      <td>Mexico/SON-InDRE_FB17149_S3230/2021|EPI_ISL_26...</td>\n",
       "      <td>NaN</td>\n",
       "      <td>1973-04-15</td>\n",
       "      <td>Mexico</td>\n",
       "      <td>NaN</td>\n",
       "      <td>NaN</td>\n",
       "      <td>29822.0</td>\n",
       "      <td>20J</td>\n",
       "      <td>P.1.15</td>\n",
       "      <td>20J (Gamma,V3)</td>\n",
       "      <td>P.1.15</td>\n",
       "      <td>DAY</td>\n",
       "    </tr>\n",
       "    <tr>\n",
       "      <th>8669612</th>\n",
       "      <td>Mexico/YUC-InDRE_FB17098_S3215/2021|EPI_ISL_26...</td>\n",
       "      <td>NaN</td>\n",
       "      <td>1993-04-17</td>\n",
       "      <td>Mexico</td>\n",
       "      <td>NaN</td>\n",
       "      <td>NaN</td>\n",
       "      <td>29823.0</td>\n",
       "      <td>20J</td>\n",
       "      <td>P.1.17</td>\n",
       "      <td>20J (Gamma,V3)</td>\n",
       "      <td>P.1.17</td>\n",
       "      <td>DAY</td>\n",
       "    </tr>\n",
       "    <tr>\n",
       "      <th>1522654</th>\n",
       "      <td>CzechRepublic/NRL_6465_21/2021|EPI_ISL_2324899...</td>\n",
       "      <td>NaN</td>\n",
       "      <td>2016-04-16</td>\n",
       "      <td>Czech Republic</td>\n",
       "      <td>NaN</td>\n",
       "      <td>NaN</td>\n",
       "      <td>29832.0</td>\n",
       "      <td>20I</td>\n",
       "      <td>B.1.1.7</td>\n",
       "      <td>20I (Alpha,V1)</td>\n",
       "      <td>B.1.1.7</td>\n",
       "      <td>DAY</td>\n",
       "    </tr>\n",
       "    <tr>\n",
       "      <th>760383</th>\n",
       "      <td>CHN/2019/2019|C_AA011730.1|2019</td>\n",
       "      <td>NaN</td>\n",
       "      <td>2019-06-01</td>\n",
       "      <td>China</td>\n",
       "      <td>Homo sapiens</td>\n",
       "      <td>Complete</td>\n",
       "      <td>29714.0</td>\n",
       "      <td>19B</td>\n",
       "      <td>A</td>\n",
       "      <td>19B</td>\n",
       "      <td>A</td>\n",
       "      <td>YEAR</td>\n",
       "    </tr>\n",
       "    <tr>\n",
       "      <th>760384</th>\n",
       "      <td>CHN/2019/2019|C_AA011731.1|2019</td>\n",
       "      <td>NaN</td>\n",
       "      <td>2019-06-01</td>\n",
       "      <td>China</td>\n",
       "      <td>Homo sapiens</td>\n",
       "      <td>Complete</td>\n",
       "      <td>29690.0</td>\n",
       "      <td>19B</td>\n",
       "      <td>A</td>\n",
       "      <td>19B</td>\n",
       "      <td>A</td>\n",
       "      <td>YEAR</td>\n",
       "    </tr>\n",
       "    <tr>\n",
       "      <th>760385</th>\n",
       "      <td>CHN/2019/2019|C_AA011732.1|2019</td>\n",
       "      <td>NaN</td>\n",
       "      <td>2019-06-01</td>\n",
       "      <td>China</td>\n",
       "      <td>Homo sapiens</td>\n",
       "      <td>Complete</td>\n",
       "      <td>29714.0</td>\n",
       "      <td>19A</td>\n",
       "      <td>A</td>\n",
       "      <td>19A</td>\n",
       "      <td>B</td>\n",
       "      <td>YEAR</td>\n",
       "    </tr>\n",
       "    <tr>\n",
       "      <th>760386</th>\n",
       "      <td>CHN/2019/2019|C_AA011733.1|2019</td>\n",
       "      <td>NaN</td>\n",
       "      <td>2019-06-01</td>\n",
       "      <td>China</td>\n",
       "      <td>Homo sapiens</td>\n",
       "      <td>Complete</td>\n",
       "      <td>29714.0</td>\n",
       "      <td>20A</td>\n",
       "      <td>B.1</td>\n",
       "      <td>20A</td>\n",
       "      <td>B.1</td>\n",
       "      <td>YEAR</td>\n",
       "    </tr>\n",
       "    <tr>\n",
       "      <th>16209554</th>\n",
       "      <td>Wuhan-Hu-1|MN908947.3|2019-12</td>\n",
       "      <td>MN908947.3</td>\n",
       "      <td>2019-12-15</td>\n",
       "      <td>China</td>\n",
       "      <td>NaN</td>\n",
       "      <td>NaN</td>\n",
       "      <td>29903.0</td>\n",
       "      <td>19A</td>\n",
       "      <td>B</td>\n",
       "      <td>19A</td>\n",
       "      <td>B</td>\n",
       "      <td>MONTH</td>\n",
       "    </tr>\n",
       "    <tr>\n",
       "      <th>16209761</th>\n",
       "      <td>Wuhan/IPBCAMS-WH-01/2019|MT019529.1|2019-12-23</td>\n",
       "      <td>MT019529.1</td>\n",
       "      <td>2019-12-23</td>\n",
       "      <td>China</td>\n",
       "      <td>NaN</td>\n",
       "      <td>NaN</td>\n",
       "      <td>29899.0</td>\n",
       "      <td>19A</td>\n",
       "      <td>B</td>\n",
       "      <td>19A</td>\n",
       "      <td>B</td>\n",
       "      <td>DAY</td>\n",
       "    </tr>\n",
       "    <tr>\n",
       "      <th>16209760</th>\n",
       "      <td>Wuhan/IPBCAMS-WH-01/2019|GWHABKF00000001|2019-...</td>\n",
       "      <td>NaN</td>\n",
       "      <td>2019-12-24</td>\n",
       "      <td>China</td>\n",
       "      <td>Homo sapiens</td>\n",
       "      <td>Complete</td>\n",
       "      <td>29899.0</td>\n",
       "      <td>19A</td>\n",
       "      <td>B</td>\n",
       "      <td>19A</td>\n",
       "      <td>B</td>\n",
       "      <td>DAY</td>\n",
       "    </tr>\n",
       "  </tbody>\n",
       "</table>\n",
       "</div>"
      ],
      "text/plain": [
       "                                                     strain genbank_accession  \\\n",
       "8661283   Mexico/SON-InDRE_FB17149_S3230/2021|EPI_ISL_26...               NaN   \n",
       "8669612   Mexico/YUC-InDRE_FB17098_S3215/2021|EPI_ISL_26...               NaN   \n",
       "1522654   CzechRepublic/NRL_6465_21/2021|EPI_ISL_2324899...               NaN   \n",
       "760383                      CHN/2019/2019|C_AA011730.1|2019               NaN   \n",
       "760384                      CHN/2019/2019|C_AA011731.1|2019               NaN   \n",
       "760385                      CHN/2019/2019|C_AA011732.1|2019               NaN   \n",
       "760386                      CHN/2019/2019|C_AA011733.1|2019               NaN   \n",
       "16209554                      Wuhan-Hu-1|MN908947.3|2019-12        MN908947.3   \n",
       "16209761     Wuhan/IPBCAMS-WH-01/2019|MT019529.1|2019-12-23        MT019529.1   \n",
       "16209760  Wuhan/IPBCAMS-WH-01/2019|GWHABKF00000001|2019-...               NaN   \n",
       "\n",
       "               date         country          host completeness   length  \\\n",
       "8661283  1973-04-15          Mexico           NaN          NaN  29822.0   \n",
       "8669612  1993-04-17          Mexico           NaN          NaN  29823.0   \n",
       "1522654  2016-04-16  Czech Republic           NaN          NaN  29832.0   \n",
       "760383   2019-06-01           China  Homo sapiens     Complete  29714.0   \n",
       "760384   2019-06-01           China  Homo sapiens     Complete  29690.0   \n",
       "760385   2019-06-01           China  Homo sapiens     Complete  29714.0   \n",
       "760386   2019-06-01           China  Homo sapiens     Complete  29714.0   \n",
       "16209554 2019-12-15           China           NaN          NaN  29903.0   \n",
       "16209761 2019-12-23           China           NaN          NaN  29899.0   \n",
       "16209760 2019-12-24           China  Homo sapiens     Complete  29899.0   \n",
       "\n",
       "         Nextstrain_clade pangolin_lineage Nextstrain_clade_usher  \\\n",
       "8661283               20J           P.1.15         20J (Gamma,V3)   \n",
       "8669612               20J           P.1.17         20J (Gamma,V3)   \n",
       "1522654               20I          B.1.1.7         20I (Alpha,V1)   \n",
       "760383                19B                A                    19B   \n",
       "760384                19B                A                    19B   \n",
       "760385                19A                A                    19A   \n",
       "760386                20A              B.1                    20A   \n",
       "16209554              19A                B                    19A   \n",
       "16209761              19A                B                    19A   \n",
       "16209760              19A                B                    19A   \n",
       "\n",
       "         pango_lineage_usher date_resolution_str  \n",
       "8661283               P.1.15                 DAY  \n",
       "8669612               P.1.17                 DAY  \n",
       "1522654              B.1.1.7                 DAY  \n",
       "760383                     A                YEAR  \n",
       "760384                     A                YEAR  \n",
       "760385                     B                YEAR  \n",
       "760386                   B.1                YEAR  \n",
       "16209554                   B               MONTH  \n",
       "16209761                   B                 DAY  \n",
       "16209760                   B                 DAY  "
      ]
     },
     "execution_count": 10,
     "metadata": {},
     "output_type": "execute_result"
    }
   ],
   "source": [
    "meta_df.sort_values(\"date\").head(10)"
   ]
  },
  {
   "cell_type": "code",
   "execution_count": 11,
   "metadata": {},
   "outputs": [
    {
     "data": {
      "image/png": "[encoded data removed]",
      "text/plain": [
       "<Figure size 800x500 with 1 Axes>"
      ]
     },
     "metadata": {},
     "output_type": "display_data"
    }
   ],
   "source": [
    "%matplotlib inline\n",
    "fig, ax = plt.subplots(figsize=(8, 5))\n",
    "sns.histplot(meta_df[\"date\"], ax=ax, bins=50)\n",
    "ax.set_xticks(ax.get_xticks(), ax.get_xticklabels(), rotation=45, ha=\"center\")\n",
    "plt.show()"
   ]
  },
  {
   "cell_type": "code",
   "execution_count": 12,
   "metadata": {},
   "outputs": [
    {
     "data": {
      "text/plain": [
       "<Axes: xlabel='length'>"
      ]
     },
     "execution_count": 12,
     "metadata": {},
     "output_type": "execute_result"
    },
    {
     "data": {
      "image/png": "[encoded data removed]",
      "text/plain": [
       "<Figure size 640x480 with 1 Axes>"
      ]
     },
     "metadata": {},
     "output_type": "display_data"
    }
   ],
   "source": [
    "sns.boxplot(x=\"length\", data=meta_df)"
   ]
  },
  {
   "cell_type": "markdown",
   "metadata": {},
   "source": [
    "# QC Filter #1 - Date Resolution\n",
    "\n",
    "discarding anything with a missing date, or date before 2019-06-01"
   ]
  },
  {
   "cell_type": "code",
   "execution_count": null,
   "metadata": {},
   "outputs": [
    {
     "name": "stdout",
     "output_type": "stream",
     "text": [
      "There are 252558 samples to drop due to invalid date\n"
     ]
    }
   ],
   "source": [
    "invalid_resolution = meta_df[\"date_resolution_str\"].isin([\"MISSING\", \"MONTH\", \"YEAR\"])\n",
    "invalid_time = meta_df[\"date\"] < robust_fromisoformat(\"2019-12-01\")\n",
    "invalid_date = meta_df[invalid_resolution | invalid_time]\n",
    "qc_1_strain_to_drop = invalid_date[\"strain\"].to_list()\n",
    "qc_1_idx_to_drop = invalid_date.index.to_list()\n",
    "print(f\"There are {len(qc_1_idx_to_drop)} samples to drop due to invalid date\")"
   ]
  },
  {
   "cell_type": "code",
   "execution_count": 14,
   "metadata": {},
   "outputs": [],
   "source": [
    "meta_df.drop(qc_1_idx_to_drop, inplace=True)"
   ]
  },
  {
   "cell_type": "code",
   "execution_count": 15,
   "metadata": {},
   "outputs": [
    {
     "data": {
      "text/html": [
       "<div>\n",
       "<style scoped>\n",
       "    .dataframe tbody tr th:only-of-type {\n",
       "        vertical-align: middle;\n",
       "    }\n",
       "\n",
       "    .dataframe tbody tr th {\n",
       "        vertical-align: top;\n",
       "    }\n",
       "\n",
       "    .dataframe thead th {\n",
       "        text-align: right;\n",
       "    }\n",
       "</style>\n",
       "<table border=\"1\" class=\"dataframe\">\n",
       "  <thead>\n",
       "    <tr style=\"text-align: right;\">\n",
       "      <th></th>\n",
       "      <th>strain</th>\n",
       "      <th>genbank_accession</th>\n",
       "      <th>date</th>\n",
       "      <th>country</th>\n",
       "      <th>host</th>\n",
       "      <th>completeness</th>\n",
       "      <th>length</th>\n",
       "      <th>Nextstrain_clade</th>\n",
       "      <th>pangolin_lineage</th>\n",
       "      <th>Nextstrain_clade_usher</th>\n",
       "      <th>pango_lineage_usher</th>\n",
       "      <th>date_resolution_str</th>\n",
       "    </tr>\n",
       "  </thead>\n",
       "  <tbody>\n",
       "    <tr>\n",
       "      <th>16209761</th>\n",
       "      <td>Wuhan/IPBCAMS-WH-01/2019|MT019529.1|2019-12-23</td>\n",
       "      <td>MT019529.1</td>\n",
       "      <td>2019-12-23</td>\n",
       "      <td>China</td>\n",
       "      <td>NaN</td>\n",
       "      <td>NaN</td>\n",
       "      <td>29899.0</td>\n",
       "      <td>19A</td>\n",
       "      <td>B</td>\n",
       "      <td>19A</td>\n",
       "      <td>B</td>\n",
       "      <td>DAY</td>\n",
       "    </tr>\n",
       "    <tr>\n",
       "      <th>16209760</th>\n",
       "      <td>Wuhan/IPBCAMS-WH-01/2019|GWHABKF00000001|2019-...</td>\n",
       "      <td>NaN</td>\n",
       "      <td>2019-12-24</td>\n",
       "      <td>China</td>\n",
       "      <td>Homo sapiens</td>\n",
       "      <td>Complete</td>\n",
       "      <td>29899.0</td>\n",
       "      <td>19A</td>\n",
       "      <td>B</td>\n",
       "      <td>19A</td>\n",
       "      <td>B</td>\n",
       "      <td>DAY</td>\n",
       "    </tr>\n",
       "    <tr>\n",
       "      <th>15786956</th>\n",
       "      <td>WH01|CNA0007332|2019-12-26</td>\n",
       "      <td>NaN</td>\n",
       "      <td>2019-12-26</td>\n",
       "      <td>China</td>\n",
       "      <td>Homo sapiens</td>\n",
       "      <td>Complete</td>\n",
       "      <td>29866.0</td>\n",
       "      <td>19A</td>\n",
       "      <td>B</td>\n",
       "      <td>19A</td>\n",
       "      <td>B</td>\n",
       "      <td>DAY</td>\n",
       "    </tr>\n",
       "    <tr>\n",
       "      <th>16209782</th>\n",
       "      <td>Wuhan/WH04/2020|LR757995.1|2019-12-26</td>\n",
       "      <td>LR757995.1</td>\n",
       "      <td>2019-12-26</td>\n",
       "      <td>China</td>\n",
       "      <td>NaN</td>\n",
       "      <td>NaN</td>\n",
       "      <td>29872.0</td>\n",
       "      <td>19B</td>\n",
       "      <td>A</td>\n",
       "      <td>19B</td>\n",
       "      <td>A</td>\n",
       "      <td>DAY</td>\n",
       "    </tr>\n",
       "    <tr>\n",
       "      <th>16209780</th>\n",
       "      <td>Wuhan/WH01/2019|LR757998.1|2019-12-26</td>\n",
       "      <td>LR757998.1</td>\n",
       "      <td>2019-12-26</td>\n",
       "      <td>China</td>\n",
       "      <td>NaN</td>\n",
       "      <td>NaN</td>\n",
       "      <td>29866.0</td>\n",
       "      <td>19A</td>\n",
       "      <td>B</td>\n",
       "      <td>19A</td>\n",
       "      <td>B</td>\n",
       "      <td>DAY</td>\n",
       "    </tr>\n",
       "  </tbody>\n",
       "</table>\n",
       "</div>"
      ],
      "text/plain": [
       "                                                     strain genbank_accession  \\\n",
       "16209761     Wuhan/IPBCAMS-WH-01/2019|MT019529.1|2019-12-23        MT019529.1   \n",
       "16209760  Wuhan/IPBCAMS-WH-01/2019|GWHABKF00000001|2019-...               NaN   \n",
       "15786956                         WH01|CNA0007332|2019-12-26               NaN   \n",
       "16209782              Wuhan/WH04/2020|LR757995.1|2019-12-26        LR757995.1   \n",
       "16209780              Wuhan/WH01/2019|LR757998.1|2019-12-26        LR757998.1   \n",
       "\n",
       "               date country          host completeness   length  \\\n",
       "16209761 2019-12-23   China           NaN          NaN  29899.0   \n",
       "16209760 2019-12-24   China  Homo sapiens     Complete  29899.0   \n",
       "15786956 2019-12-26   China  Homo sapiens     Complete  29866.0   \n",
       "16209782 2019-12-26   China           NaN          NaN  29872.0   \n",
       "16209780 2019-12-26   China           NaN          NaN  29866.0   \n",
       "\n",
       "         Nextstrain_clade pangolin_lineage Nextstrain_clade_usher  \\\n",
       "16209761              19A                B                    19A   \n",
       "16209760              19A                B                    19A   \n",
       "15786956              19A                B                    19A   \n",
       "16209782              19B                A                    19B   \n",
       "16209780              19A                B                    19A   \n",
       "\n",
       "         pango_lineage_usher date_resolution_str  \n",
       "16209761                   B                 DAY  \n",
       "16209760                   B                 DAY  \n",
       "15786956                   B                 DAY  \n",
       "16209782                   A                 DAY  \n",
       "16209780                   B                 DAY  "
      ]
     },
     "execution_count": 15,
     "metadata": {},
     "output_type": "execute_result"
    }
   ],
   "source": [
    "meta_df.sort_values(\"date\").head()"
   ]
  },
  {
   "cell_type": "markdown",
   "metadata": {},
   "source": [
    "Note that Wuhan/IPBCAMS-WH-01/2019|MT019529.1|2019-12-23 could be a reasonable reference to use with chronumental.\n",
    "\n",
    "Next, let's take a look at the most recent dates"
   ]
  },
  {
   "cell_type": "code",
   "execution_count": 16,
   "metadata": {},
   "outputs": [
    {
     "data": {
      "text/html": [
       "<div>\n",
       "<style scoped>\n",
       "    .dataframe tbody tr th:only-of-type {\n",
       "        vertical-align: middle;\n",
       "    }\n",
       "\n",
       "    .dataframe tbody tr th {\n",
       "        vertical-align: top;\n",
       "    }\n",
       "\n",
       "    .dataframe thead th {\n",
       "        text-align: right;\n",
       "    }\n",
       "</style>\n",
       "<table border=\"1\" class=\"dataframe\">\n",
       "  <thead>\n",
       "    <tr style=\"text-align: right;\">\n",
       "      <th></th>\n",
       "      <th>strain</th>\n",
       "      <th>genbank_accession</th>\n",
       "      <th>date</th>\n",
       "      <th>country</th>\n",
       "      <th>host</th>\n",
       "      <th>completeness</th>\n",
       "      <th>length</th>\n",
       "      <th>Nextstrain_clade</th>\n",
       "      <th>pangolin_lineage</th>\n",
       "      <th>Nextstrain_clade_usher</th>\n",
       "      <th>pango_lineage_usher</th>\n",
       "      <th>date_resolution_str</th>\n",
       "    </tr>\n",
       "  </thead>\n",
       "  <tbody>\n",
       "    <tr>\n",
       "      <th>2751432</th>\n",
       "      <td>England/CLIMB-CM7YFQWK/2023|2023-09-27</td>\n",
       "      <td>NaN</td>\n",
       "      <td>2023-09-27</td>\n",
       "      <td>England</td>\n",
       "      <td>NaN</td>\n",
       "      <td>NaN</td>\n",
       "      <td>NaN</td>\n",
       "      <td>23B</td>\n",
       "      <td>HF.1</td>\n",
       "      <td>23B (XBB.1.16)</td>\n",
       "      <td>HF.1</td>\n",
       "      <td>DAY</td>\n",
       "    </tr>\n",
       "    <tr>\n",
       "      <th>2745117</th>\n",
       "      <td>England/CLIMB-CM7Y81RZ/2023|2023-09-27</td>\n",
       "      <td>NaN</td>\n",
       "      <td>2023-09-27</td>\n",
       "      <td>England</td>\n",
       "      <td>NaN</td>\n",
       "      <td>NaN</td>\n",
       "      <td>NaN</td>\n",
       "      <td>23B</td>\n",
       "      <td>XBB.1.16.6</td>\n",
       "      <td>23B (XBB.1.16)</td>\n",
       "      <td>XBB.1.16.6</td>\n",
       "      <td>DAY</td>\n",
       "    </tr>\n",
       "    <tr>\n",
       "      <th>2758265</th>\n",
       "      <td>England/CLIMB-CM7YKH98/2023|2023-09-26</td>\n",
       "      <td>NaN</td>\n",
       "      <td>2023-09-26</td>\n",
       "      <td>England</td>\n",
       "      <td>NaN</td>\n",
       "      <td>NaN</td>\n",
       "      <td>NaN</td>\n",
       "      <td>23F</td>\n",
       "      <td>HV.1</td>\n",
       "      <td>23F (EG.5.1)</td>\n",
       "      <td>HV.1</td>\n",
       "      <td>DAY</td>\n",
       "    </tr>\n",
       "    <tr>\n",
       "      <th>2763578</th>\n",
       "      <td>England/CLIMB-CM7YRSMP/2023|2023-09-25</td>\n",
       "      <td>NaN</td>\n",
       "      <td>2023-09-25</td>\n",
       "      <td>England</td>\n",
       "      <td>NaN</td>\n",
       "      <td>NaN</td>\n",
       "      <td>NaN</td>\n",
       "      <td>23F</td>\n",
       "      <td>HK.3</td>\n",
       "      <td>23F (EG.5.1)</td>\n",
       "      <td>HK.3</td>\n",
       "      <td>DAY</td>\n",
       "    </tr>\n",
       "    <tr>\n",
       "      <th>2756711</th>\n",
       "      <td>England/CLIMB-CM7YJUQE/2023|2023-09-25</td>\n",
       "      <td>NaN</td>\n",
       "      <td>2023-09-25</td>\n",
       "      <td>England</td>\n",
       "      <td>NaN</td>\n",
       "      <td>NaN</td>\n",
       "      <td>NaN</td>\n",
       "      <td>23C</td>\n",
       "      <td>DV.7.1</td>\n",
       "      <td>23C (CH.1.1)</td>\n",
       "      <td>DV.7.1</td>\n",
       "      <td>DAY</td>\n",
       "    </tr>\n",
       "  </tbody>\n",
       "</table>\n",
       "</div>"
      ],
      "text/plain": [
       "                                         strain genbank_accession       date  \\\n",
       "2751432  England/CLIMB-CM7YFQWK/2023|2023-09-27               NaN 2023-09-27   \n",
       "2745117  England/CLIMB-CM7Y81RZ/2023|2023-09-27               NaN 2023-09-27   \n",
       "2758265  England/CLIMB-CM7YKH98/2023|2023-09-26               NaN 2023-09-26   \n",
       "2763578  England/CLIMB-CM7YRSMP/2023|2023-09-25               NaN 2023-09-25   \n",
       "2756711  England/CLIMB-CM7YJUQE/2023|2023-09-25               NaN 2023-09-25   \n",
       "\n",
       "         country host completeness  length Nextstrain_clade pangolin_lineage  \\\n",
       "2751432  England  NaN          NaN     NaN              23B             HF.1   \n",
       "2745117  England  NaN          NaN     NaN              23B       XBB.1.16.6   \n",
       "2758265  England  NaN          NaN     NaN              23F             HV.1   \n",
       "2763578  England  NaN          NaN     NaN              23F             HK.3   \n",
       "2756711  England  NaN          NaN     NaN              23C           DV.7.1   \n",
       "\n",
       "        Nextstrain_clade_usher pango_lineage_usher date_resolution_str  \n",
       "2751432         23B (XBB.1.16)                HF.1                 DAY  \n",
       "2745117         23B (XBB.1.16)          XBB.1.16.6                 DAY  \n",
       "2758265           23F (EG.5.1)                HV.1                 DAY  \n",
       "2763578           23F (EG.5.1)                HK.3                 DAY  \n",
       "2756711           23C (CH.1.1)              DV.7.1                 DAY  "
      ]
     },
     "execution_count": 16,
     "metadata": {},
     "output_type": "execute_result"
    }
   ],
   "source": [
    "meta_df.sort_values(\"date\", ascending=False).head()"
   ]
  },
  {
   "cell_type": "code",
   "execution_count": 17,
   "metadata": {},
   "outputs": [
    {
     "data": {
      "image/png": "[encoded data removed]",
      "text/plain": [
       "<Figure size 800x500 with 1 Axes>"
      ]
     },
     "metadata": {},
     "output_type": "display_data"
    }
   ],
   "source": [
    "%matplotlib inline\n",
    "fig, ax = plt.subplots(figsize=(8, 5))\n",
    "sns.histplot(meta_df[\"date\"], ax=ax, bins=50)\n",
    "ax.set_xticks(ax.get_xticks(), ax.get_xticklabels(), rotation=45, ha=\"center\")\n",
    "plt.show()"
   ]
  },
  {
   "cell_type": "markdown",
   "metadata": {},
   "source": [
    "# QC Filter #2 - Host\n",
    "\n",
    "It seems there are some NHP samples in the dataset. We'll discard those."
   ]
  },
  {
   "cell_type": "code",
   "execution_count": 18,
   "metadata": {},
   "outputs": [
    {
     "name": "stdout",
     "output_type": "stream",
     "text": [
      "host\n",
      "Human                       91967\n",
      "Homo sapiens                45421\n",
      "Mink                          370\n",
      "Environment                    68\n",
      "ENV                             7\n",
      "Panthera tigris jacksoni        6\n",
      "Felis catus                     3\n",
      "Panthera leo                    3\n",
      "unknown                         1\n",
      "Mus musculus                    1\n",
      "Name: count, dtype: int64\n"
     ]
    }
   ],
   "source": [
    "if \"host\" in meta_df.columns:\n",
    "    print(meta_df[\"host\"].value_counts())"
   ]
  },
  {
   "cell_type": "markdown",
   "metadata": {},
   "source": [
    "Obviously, there's a lot of unknown hosts. We'll have to keep the unknowns for now, and discard anything explicitely non-human."
   ]
  },
  {
   "cell_type": "code",
   "execution_count": 19,
   "metadata": {},
   "outputs": [
    {
     "name": "stdout",
     "output_type": "stream",
     "text": [
      "there are 459 invalid hosts\n"
     ]
    }
   ],
   "source": [
    "missing_valid = lambda v: not pd.isna(v) if MISSING_HOST_IS_VALID else pd.isna(v)\n",
    "invalid_host_names = [\n",
    "    v \n",
    "    for v in meta_df['host'].unique() \n",
    "    if v not in VALID_HOSTS and missing_valid(v)\n",
    "]\n",
    "invalid_host = meta_df[meta_df[\"host\"].isin(invalid_host_names)]\n",
    "qc_2_strain_to_drop = invalid_host[\"strain\"].to_list()\n",
    "qc_2_idx_to_drop = invalid_host.index.to_list()\n",
    "print(f\"there are {len(qc_2_idx_to_drop)} invalid hosts\")"
   ]
  },
  {
   "cell_type": "code",
   "execution_count": 20,
   "metadata": {},
   "outputs": [],
   "source": [
    "meta_df.drop(qc_2_idx_to_drop, inplace=True)"
   ]
  },
  {
   "cell_type": "markdown",
   "metadata": {},
   "source": [
    "# QC Filter #3 - Length"
   ]
  },
  {
   "cell_type": "code",
   "execution_count": 21,
   "metadata": {},
   "outputs": [
    {
     "data": {
      "text/plain": [
       "count    1.524679e+07\n",
       "mean     2.976243e+04\n",
       "std      1.924449e+02\n",
       "min      5.675000e+03\n",
       "25%      2.972300e+04\n",
       "50%      2.978300e+04\n",
       "75%      2.985000e+04\n",
       "max      3.864610e+05\n",
       "Name: length, dtype: float64"
      ]
     },
     "execution_count": 21,
     "metadata": {},
     "output_type": "execute_result"
    }
   ],
   "source": [
    "meta_df['length'].describe()"
   ]
  },
  {
   "cell_type": "code",
   "execution_count": 22,
   "metadata": {},
   "outputs": [
    {
     "name": "stdout",
     "output_type": "stream",
     "text": [
      "there are (736579) samples with missing length information\n"
     ]
    }
   ],
   "source": [
    "print(f\"there are ({sum(meta_df['length'].isnull())}) samples with missing length information\")"
   ]
  },
  {
   "cell_type": "code",
   "execution_count": 23,
   "metadata": {},
   "outputs": [
    {
     "name": "stdout",
     "output_type": "stream",
     "text": [
      "There are 739230 samples with invalid length attribute\n"
     ]
    }
   ],
   "source": [
    "invalid_length = meta_df[~meta_df[\"length\"].between(MIN_GENOME_LENGTH, MAX_GENOME_LENGTH)]\n",
    "print(f\"There are {len(invalid_length)} samples with invalid length attribute\")\n",
    "qc_3_strain_to_drop = invalid_length[\"strain\"].to_list()\n",
    "qc_3_idx_to_drop = invalid_length.index.to_list()\n",
    "meta_df.drop(qc_3_idx_to_drop, inplace=True)"
   ]
  },
  {
   "cell_type": "code",
   "execution_count": 24,
   "metadata": {},
   "outputs": [
    {
     "data": {
      "text/plain": [
       "<Axes: xlabel='length'>"
      ]
     },
     "execution_count": 24,
     "metadata": {},
     "output_type": "execute_result"
    },
    {
     "data": {
      "image/png": "[encoded data removed]",
      "text/plain": [
       "<Figure size 640x480 with 1 Axes>"
      ]
     },
     "metadata": {},
     "output_type": "display_data"
    }
   ],
   "source": [
    "sns.boxplot(x=\"length\", data=meta_df)"
   ]
  },
  {
   "cell_type": "markdown",
   "metadata": {},
   "source": [
    "## OUTPUTS"
   ]
  },
  {
   "cell_type": "code",
   "execution_count": 25,
   "metadata": {},
   "outputs": [
    {
     "name": "stdout",
     "output_type": "stream",
     "text": [
      "<class 'pandas.core.frame.DataFrame'>\n",
      "Index: 15244141 entries, 0 to 16236386\n",
      "Data columns (total 12 columns):\n",
      " #   Column                  Non-Null Count     Dtype         \n",
      "---  ------                  --------------     -----         \n",
      " 0   strain                  15244141 non-null  object        \n",
      " 1   genbank_accession       7455350 non-null   object        \n",
      " 2   date                    15244141 non-null  datetime64[ns]\n",
      " 3   country                 15238928 non-null  object        \n",
      " 4   host                    137340 non-null    object        \n",
      " 5   completeness            126904 non-null    object        \n",
      " 6   length                  15244141 non-null  float64       \n",
      " 7   Nextstrain_clade        15242357 non-null  object        \n",
      " 8   pangolin_lineage        15244140 non-null  object        \n",
      " 9   Nextstrain_clade_usher  15244141 non-null  object        \n",
      " 10  pango_lineage_usher     15244141 non-null  object        \n",
      " 11  date_resolution_str     15244141 non-null  object        \n",
      "dtypes: datetime64[ns](1), float64(1), object(10)\n",
      "memory usage: 1.5+ GB\n"
     ]
    }
   ],
   "source": [
    "meta_df.info(verbose=True, show_counts=True)"
   ]
  },
  {
   "cell_type": "code",
   "execution_count": 26,
   "metadata": {},
   "outputs": [
    {
     "data": {
      "text/html": [
       "<div>\n",
       "<style scoped>\n",
       "    .dataframe tbody tr th:only-of-type {\n",
       "        vertical-align: middle;\n",
       "    }\n",
       "\n",
       "    .dataframe tbody tr th {\n",
       "        vertical-align: top;\n",
       "    }\n",
       "\n",
       "    .dataframe thead th {\n",
       "        text-align: right;\n",
       "    }\n",
       "</style>\n",
       "<table border=\"1\" class=\"dataframe\">\n",
       "  <thead>\n",
       "    <tr style=\"text-align: right;\">\n",
       "      <th></th>\n",
       "      <th>strain</th>\n",
       "      <th>genbank_accession</th>\n",
       "      <th>date</th>\n",
       "      <th>country</th>\n",
       "      <th>host</th>\n",
       "      <th>completeness</th>\n",
       "      <th>length</th>\n",
       "      <th>Nextstrain_clade</th>\n",
       "      <th>pangolin_lineage</th>\n",
       "      <th>Nextstrain_clade_usher</th>\n",
       "      <th>pango_lineage_usher</th>\n",
       "      <th>date_resolution_str</th>\n",
       "    </tr>\n",
       "  </thead>\n",
       "  <tbody>\n",
       "    <tr>\n",
       "      <th>0</th>\n",
       "      <td>100002|LR824035.1|2020-03-05</td>\n",
       "      <td>LR824035.1</td>\n",
       "      <td>2020-03-05</td>\n",
       "      <td>Switzerland</td>\n",
       "      <td>NaN</td>\n",
       "      <td>NaN</td>\n",
       "      <td>29903.0</td>\n",
       "      <td>20A</td>\n",
       "      <td>B.1</td>\n",
       "      <td>20A</td>\n",
       "      <td>B.1</td>\n",
       "      <td>DAY</td>\n",
       "    </tr>\n",
       "    <tr>\n",
       "      <th>1</th>\n",
       "      <td>100003|LR824038.1|2020-03-04</td>\n",
       "      <td>LR824038.1</td>\n",
       "      <td>2020-03-04</td>\n",
       "      <td>Switzerland</td>\n",
       "      <td>NaN</td>\n",
       "      <td>NaN</td>\n",
       "      <td>29903.0</td>\n",
       "      <td>20B</td>\n",
       "      <td>B.1.1</td>\n",
       "      <td>20B</td>\n",
       "      <td>B.1.1</td>\n",
       "      <td>DAY</td>\n",
       "    </tr>\n",
       "    <tr>\n",
       "      <th>2</th>\n",
       "      <td>100004|LR824040.1|2020-03-06</td>\n",
       "      <td>LR824040.1</td>\n",
       "      <td>2020-03-06</td>\n",
       "      <td>Switzerland</td>\n",
       "      <td>NaN</td>\n",
       "      <td>NaN</td>\n",
       "      <td>29903.0</td>\n",
       "      <td>20A</td>\n",
       "      <td>B.1</td>\n",
       "      <td>20A</td>\n",
       "      <td>B.1</td>\n",
       "      <td>DAY</td>\n",
       "    </tr>\n",
       "    <tr>\n",
       "      <th>3</th>\n",
       "      <td>100005|LR824037.1|2020-03-06</td>\n",
       "      <td>LR824037.1</td>\n",
       "      <td>2020-03-06</td>\n",
       "      <td>Switzerland</td>\n",
       "      <td>NaN</td>\n",
       "      <td>NaN</td>\n",
       "      <td>29903.0</td>\n",
       "      <td>20A</td>\n",
       "      <td>B.1</td>\n",
       "      <td>20A</td>\n",
       "      <td>B.1</td>\n",
       "      <td>DAY</td>\n",
       "    </tr>\n",
       "    <tr>\n",
       "      <th>4</th>\n",
       "      <td>100006|LR824041.1|2020-03-06</td>\n",
       "      <td>LR824041.1</td>\n",
       "      <td>2020-03-06</td>\n",
       "      <td>Switzerland</td>\n",
       "      <td>NaN</td>\n",
       "      <td>NaN</td>\n",
       "      <td>29903.0</td>\n",
       "      <td>20A</td>\n",
       "      <td>B.1</td>\n",
       "      <td>20A</td>\n",
       "      <td>B.1</td>\n",
       "      <td>DAY</td>\n",
       "    </tr>\n",
       "  </tbody>\n",
       "</table>\n",
       "</div>"
      ],
      "text/plain": [
       "                         strain genbank_accession       date      country  \\\n",
       "0  100002|LR824035.1|2020-03-05        LR824035.1 2020-03-05  Switzerland   \n",
       "1  100003|LR824038.1|2020-03-04        LR824038.1 2020-03-04  Switzerland   \n",
       "2  100004|LR824040.1|2020-03-06        LR824040.1 2020-03-06  Switzerland   \n",
       "3  100005|LR824037.1|2020-03-06        LR824037.1 2020-03-06  Switzerland   \n",
       "4  100006|LR824041.1|2020-03-06        LR824041.1 2020-03-06  Switzerland   \n",
       "\n",
       "  host completeness   length Nextstrain_clade pangolin_lineage  \\\n",
       "0  NaN          NaN  29903.0              20A              B.1   \n",
       "1  NaN          NaN  29903.0              20B            B.1.1   \n",
       "2  NaN          NaN  29903.0              20A              B.1   \n",
       "3  NaN          NaN  29903.0              20A              B.1   \n",
       "4  NaN          NaN  29903.0              20A              B.1   \n",
       "\n",
       "  Nextstrain_clade_usher pango_lineage_usher date_resolution_str  \n",
       "0                    20A                 B.1                 DAY  \n",
       "1                    20B               B.1.1                 DAY  \n",
       "2                    20A                 B.1                 DAY  \n",
       "3                    20A                 B.1                 DAY  \n",
       "4                    20A                 B.1                 DAY  "
      ]
     },
     "execution_count": 26,
     "metadata": {},
     "output_type": "execute_result"
    }
   ],
   "source": [
    "meta_df.head()"
   ]
  },
  {
   "cell_type": "code",
   "execution_count": null,
   "metadata": {},
   "outputs": [],
   "source": [
    "# Show summary statistics of the final dataset\n",
    "print(f\"Date range: {meta_df['date'].min()} to {meta_df['date'].max()}\")\n",
    "print(f\"Number of unique hosts: {meta_df['host'].nunique()}\")\n",
    "print(f\"Genome length range: {meta_df['length'].min()} to {meta_df['length'].max()}\")"
   ]
  },
  {
   "cell_type": "code",
   "execution_count": 27,
   "metadata": {},
   "outputs": [],
   "source": [
    "meta_df.to_csv(FILTERED_META_OUT, sep=\"\\t\", index=False)\n",
    "with open(INVALID_STRAINS_OUT, \"w\") as f:\n",
    "    f.write(\"\\n\".join(qc_1_strain_to_drop + qc_2_strain_to_drop + qc_3_strain_to_drop)+\"\\n\")"
   ]
  },
  {
   "cell_type": "code",
   "execution_count": null,
   "metadata": {},
   "outputs": [],
   "source": [
    "# This step was moved earlier in the pipeline\n",
    "print(f\"Final dataset size: {len(meta_df)}\")"
   ]
  }
 ],
 "metadata": {
  "kernelspec": {
   "display_name": "SARS2-mut-fitness-traj",
   "language": "python",
   "name": "python3"
  },
  "language_info": {
   "codemirror_mode": {
    "name": "ipython",
    "version": 3
   },
   "file_extension": ".py",
   "mimetype": "text/x-python",
   "name": "python",
   "nbconvert_exporter": "python",
   "pygments_lexer": "ipython3",
   "version": "3.11.4"
  }
 },
 "nbformat": 4,
 "nbformat_minor": 2
}
